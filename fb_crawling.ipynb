{
 "cells": [
  {
   "cell_type": "code",
   "execution_count": 1,
   "source": [
    "from selenium import webdriver  \r\n",
    "from selenium.webdriver.common.keys import Keys\r\n",
    "from time import sleep "
   ],
   "outputs": [],
   "metadata": {}
  },
  {
   "cell_type": "code",
   "execution_count": 2,
   "source": [
    "# create webdriver and dismiss alert\r\n",
    "chrome_options = webdriver.ChromeOptions()\r\n",
    "prefs = {\"profile.default_content_setting_values.notifications\" : 2}\r\n",
    "chrome_options.add_experimental_option(\"prefs\",prefs)\r\n",
    "driver = webdriver.Chrome(chrome_options=chrome_options, executable_path='chromedriver.exe')"
   ],
   "outputs": [
    {
     "output_type": "stream",
     "name": "stderr",
     "text": [
      "ipykernel_launcher:5: DeprecationWarning: use options instead of chrome_options\n"
     ]
    }
   ],
   "metadata": {}
  },
  {
   "cell_type": "code",
   "execution_count": 3,
   "source": [
    "# access url\r\n",
    "#url = input()\r\n",
    "driver.get('https://www.facebook.com/khongsocho.official/posts/3294447884172883')"
   ],
   "outputs": [],
   "metadata": {}
  },
  {
   "cell_type": "code",
   "execution_count": 4,
   "source": [
    "# login facebook\r\n",
    "driver.find_element_by_id('email').send_keys('dphamhuukhanh@gmail.com')\r\n",
    "driver.find_element_by_id('pass').send_keys('phamhuukhanhduy09122001')\r\n",
    "driver.find_element_by_id('pass').send_keys(Keys.ENTER)"
   ],
   "outputs": [],
   "metadata": {}
  },
  {
   "cell_type": "code",
   "execution_count": 5,
   "source": [
    "\r\n",
    "comments = driver.find_elements_by_xpath(\"//div[@class='q9uorilb bvz0fpym c1et5uql sf5mxxl7']\")\r\n",
    "for comment in comments:\r\n",
    "    try:\r\n",
    "        poster = comment.find_element_by_class_name(\"pq6dq46d\").text\r\n",
    "        link = comment.find_element_by_tag_name('a').get_attribute('href')\r\n",
    "        cmt = comment.find_element_by_tag_name('div').find_element_by_tag_name('div').find_element_by_tag_name('div').find_element_by_tag_name('div').text[len(poster)+1:]\r\n",
    "        print(poster+\": \"+link)\r\n",
    "        print(cmt)\r\n",
    "    except:\r\n",
    "        print(\"Not found!\")\r\n"
   ],
   "outputs": [
    {
     "output_type": "stream",
     "name": "stdout",
     "text": [
      "Incognito Tab: https://www.facebook.com/GoneIncognit0/?comment_id=Y29tbWVudDozMjk0NDQ3ODg0MTcyODgzXzMyOTQ0Njg4MDA4Mzc0NTg%3D&__cft__[0]=AZUTfR4h1hA_qrU7SM52LHBNntKW2H6n_41HNQjz9z6XWyaERImSyCBJql9rpL06-EzzSdD8NzCQkNke0dF1RuP3G6soMjczoTbnn5-C3DcRKFPHYbVmvPtXmdNXKy1q6hP-LODh0eH4hAHn99w3YQxV&__tn__=R]-R\n",
      "Làm MC chương trình với sự tham gia của các lãnh đạo, lên pge của Chính phủ thì biết đẳng cấp và nhân các được cả Nhà nước công nhận rồi. Mong chương trình thành 1 chương thường xuyên như thời sự, không chỉ ở TP HCM mà cả các tỉnh khác đều có. Random t… Xem thêm\n",
      "Tiệm Của Chuột: https://www.facebook.com/CHUOTORDERCHINA/?comment_id=Y29tbWVudDozMjk0NDQ3ODg0MTcyODgzXzMyOTQ0NjUwMDc1MDQ1MDQ%3D&__cft__[0]=AZUTfR4h1hA_qrU7SM52LHBNntKW2H6n_41HNQjz9z6XWyaERImSyCBJql9rpL06-EzzSdD8NzCQkNke0dF1RuP3G6soMjczoTbnn5-C3DcRKFPHYbVmvPtXmdNXKy1q6hP-LODh0eH4hAHn99w3YQxV&__tn__=R]-R\n",
      "n sale m.n ơi\n",
      "https://www.facebook.com/groups/298125111408262\n",
      "Đại Lạc gia trang: https://www.facebook.com/DaiLac/?comment_id=Y29tbWVudDozMjk0NDQ3ODg0MTcyODgzXzMyOTQ0NTY0MTc1MDUzNjM%3D&__cft__[0]=AZUTfR4h1hA_qrU7SM52LHBNntKW2H6n_41HNQjz9z6XWyaERImSyCBJql9rpL06-EzzSdD8NzCQkNke0dF1RuP3G6soMjczoTbnn5-C3DcRKFPHYbVmvPtXmdNXKy1q6hP-LODh0eH4hAHn99w3YQxV&__tn__=R]-R\n",
      "Trân trọng nghệ sĩ làm từ tâm chứ không phải làm 1 ăn 10 như ai kia\n",
      "Chicken Star: https://www.facebook.com/Chicken-Star-107872701635200/?comment_id=Y29tbWVudDozMjk0NDQ3ODg0MTcyODgzXzMyOTQ1MDc3MDQxNjY5MDE%3D&__cft__[0]=AZUTfR4h1hA_qrU7SM52LHBNntKW2H6n_41HNQjz9z6XWyaERImSyCBJql9rpL06-EzzSdD8NzCQkNke0dF1RuP3G6soMjczoTbnn5-C3DcRKFPHYbVmvPtXmdNXKy1q6hP-LODh0eH4hAHn99w3YQxV&__tn__=R]-R\n",
      "Quyền Linh có phải lúc nào cũng thật thà đâu các bạn\n",
      "như trong cái gameshow toàn bấm ăn gian cho bà con thắng cuộc đó\n",
      "Tư tưởng Marx - Lenin: https://www.facebook.com/tutuongmarxlenin/?comment_id=Y29tbWVudDozMjk0NDQ3ODg0MTcyODgzXzMyOTQ0NTk1NDA4MzgzODQ%3D&__cft__[0]=AZUTfR4h1hA_qrU7SM52LHBNntKW2H6n_41HNQjz9z6XWyaERImSyCBJql9rpL06-EzzSdD8NzCQkNke0dF1RuP3G6soMjczoTbnn5-C3DcRKFPHYbVmvPtXmdNXKy1q6hP-LODh0eH4hAHn99w3YQxV&__tn__=R]-R\n",
      "tầm thôi. Miền bắc cb có bão rồi chúng ta hãy coi lại hành trình vượt lũ của năm ngoái\n",
      "For 1997: https://www.facebook.com/Bongne4120/?comment_id=Y29tbWVudDozMjk0NDQ3ODg0MTcyODgzXzMyOTQ1NDc1NzQxNjI5MTQ%3D&__cft__[0]=AZUTfR4h1hA_qrU7SM52LHBNntKW2H6n_41HNQjz9z6XWyaERImSyCBJql9rpL06-EzzSdD8NzCQkNke0dF1RuP3G6soMjczoTbnn5-C3DcRKFPHYbVmvPtXmdNXKy1q6hP-LODh0eH4hAHn99w3YQxV&__tn__=R]-R\n",
      "Đây mới là làm từ thiện từ tâm chứ k phải ở nhà show STK cá nhân lên kêu gọi tiền xong chuyển cho người khác \"từ thiện giúp\"\n",
      "Hưng Trục: https://www.facebook.com/truc.cfc55?comment_id=Y29tbWVudDozMjk0NDQ3ODg0MTcyODgzXzMyOTQ0NTcyMTc1MDUyODM%3D&__cft__[0]=AZUTfR4h1hA_qrU7SM52LHBNntKW2H6n_41HNQjz9z6XWyaERImSyCBJql9rpL06-EzzSdD8NzCQkNke0dF1RuP3G6soMjczoTbnn5-C3DcRKFPHYbVmvPtXmdNXKy1q6hP-LODh0eH4hAHn99w3YQxV&__tn__=R]-R\n",
      "Sao kê đi chú\n",
      "Chú đừng tưởng làm thế mà qua mặt được mọi người.\n",
      "Ai biết được MTQ hỗ trợ hay tiền chú tự bỏ ra.\n",
      "Thái Mạnh Cường: https://www.facebook.com/manhcuong.1603?comment_id=Y29tbWVudDozMjk0NDQ3ODg0MTcyODgzXzMyOTQ0OTQ5MjQxNjgxNzk%3D&__cft__[0]=AZUTfR4h1hA_qrU7SM52LHBNntKW2H6n_41HNQjz9z6XWyaERImSyCBJql9rpL06-EzzSdD8NzCQkNke0dF1RuP3G6soMjczoTbnn5-C3DcRKFPHYbVmvPtXmdNXKy1q6hP-LODh0eH4hAHn99w3YQxV&__tn__=R]-R\n",
      "Đây mới là chú linh idol tui này\n",
      "Cỏn chú linh kia tôi không biết\n",
      "Chảo há cảo: https://www.facebook.com/amgkidscraft.them/?comment_id=Y29tbWVudDozMjk0NDQ3ODg0MTcyODgzXzMyOTQ0OTkyNjA4MzQ0MTI%3D&__cft__[0]=AZUTfR4h1hA_qrU7SM52LHBNntKW2H6n_41HNQjz9z6XWyaERImSyCBJql9rpL06-EzzSdD8NzCQkNke0dF1RuP3G6soMjczoTbnn5-C3DcRKFPHYbVmvPtXmdNXKy1q6hP-LODh0eH4hAHn99w3YQxV&__tn__=R]-R\n",
      "CÁC ÔNG LIKE GIÚP TÔI CÁI PAGE VỚI\n",
      "Hôm nay trời đẹp: https://www.facebook.com/H%C3%B4m-nay-tr%E1%BB%9Di-%C4%91%E1%BA%B9p-103174961796170/?comment_id=Y29tbWVudDozMjk0NDQ3ODg0MTcyODgzXzMyOTQ0NTE5NzA4MzkxNDE%3D&__cft__[0]=AZUTfR4h1hA_qrU7SM52LHBNntKW2H6n_41HNQjz9z6XWyaERImSyCBJql9rpL06-EzzSdD8NzCQkNke0dF1RuP3G6soMjczoTbnn5-C3DcRKFPHYbVmvPtXmdNXKy1q6hP-LODh0eH4hAHn99w3YQxV&__tn__=R]-R\n",
      "Tôi chẳng thấy chị Thuỷ Quái làm sai cả,chỉ là chị ấy thiếu kinh nghiệm phát tiền không đồng đều thôi. Đồng bào miền Trung có người được 1 2 triệu, có người thì được vài chục đến vài trăm tỷ như anh Lê Công Vinh ở Nghệ An. Tôi tin chị ấy ko ăn một đồng nào\n",
      "Q&Q News: https://www.facebook.com/QQ-News-179146695877088/?comment_id=Y29tbWVudDozMjk0NDQ3ODg0MTcyODgzXzMyOTQ4ODQ2Mzc0NjI1NDE%3D&__cft__[0]=AZUTfR4h1hA_qrU7SM52LHBNntKW2H6n_41HNQjz9z6XWyaERImSyCBJql9rpL06-EzzSdD8NzCQkNke0dF1RuP3G6soMjczoTbnn5-C3DcRKFPHYbVmvPtXmdNXKy1q6hP-LODh0eH4hAHn99w3YQxV&__tn__=R]-R\n",
      "âu chuyện tình người giữa mùa dịch https://www.youtube.com/watch?v=VkAriRZ-kUU\n",
      "Loli Sneaker - Giày thể thao chất lượng tốt: https://www.facebook.com/lolisneaker/?comment_id=Y29tbWVudDozMjk0NDQ3ODg0MTcyODgzXzMyOTQ4Nzk5Nzc0NjMwMDc%3D&__cft__[0]=AZUTfR4h1hA_qrU7SM52LHBNntKW2H6n_41HNQjz9z6XWyaERImSyCBJql9rpL06-EzzSdD8NzCQkNke0dF1RuP3G6soMjczoTbnn5-C3DcRKFPHYbVmvPtXmdNXKy1q6hP-LODh0eH4hAHn99w3YQxV&__tn__=R]-R\n",
      "\n",
      "Minh Thư: https://www.facebook.com/profile.php?id=100067605254488&comment_id=Y29tbWVudDozMjk0NDQ3ODg0MTcyODgzXzMyOTQ0OTA0Mzc1MDE5NjE%3D&__cft__[0]=AZUTfR4h1hA_qrU7SM52LHBNntKW2H6n_41HNQjz9z6XWyaERImSyCBJql9rpL06-EzzSdD8NzCQkNke0dF1RuP3G6soMjczoTbnn5-C3DcRKFPHYbVmvPtXmdNXKy1q6hP-LODh0eH4hAHn99w3YQxV&__tn__=R]-R\n",
      "Minh Thư\n",
      "Cùng cái tên nhưng 2 số phận :)))\n",
      "Mika Akim: https://www.facebook.com/mika.akim.3914?comment_id=Y29tbWVudDozMjk0NDQ3ODg0MTcyODgzXzMyOTQ1NDc3NDc0OTYyMzA%3D&__cft__[0]=AZUTfR4h1hA_qrU7SM52LHBNntKW2H6n_41HNQjz9z6XWyaERImSyCBJql9rpL06-EzzSdD8NzCQkNke0dF1RuP3G6soMjczoTbnn5-C3DcRKFPHYbVmvPtXmdNXKy1q6hP-LODh0eH4hAHn99w3YQxV&__tn__=R]-R\n",
      "ika Akim\n",
      "Quyền linh xứng đáng dc nhận danh hiệu nghệ sỹ nhân dân. Giúp ích dc bao nhiêu việc nước cũng như cho dân và cũng như quyên góp và đồng hành làm nên tên tuổi nghệ sỹ ..\n",
      "so proud of him\n",
      "Comment dạo: https://www.facebook.com/Comment-d%E1%BA%A1o-100225509063772/?comment_id=Y29tbWVudDozMjk0NDQ3ODg0MTcyODgzXzMyOTQ2MDA4MjQxNTc1ODk%3D&__cft__[0]=AZUTfR4h1hA_qrU7SM52LHBNntKW2H6n_41HNQjz9z6XWyaERImSyCBJql9rpL06-EzzSdD8NzCQkNke0dF1RuP3G6soMjczoTbnn5-C3DcRKFPHYbVmvPtXmdNXKy1q6hP-LODh0eH4hAHn99w3YQxV&__tn__=R]-R\n",
      "Thích chú từ lục lạc vàng tới giờ\n",
      "Q&Q News: https://www.facebook.com/QQ-News-179146695877088/?comment_id=Y29tbWVudDozMjk0NDQ3ODg0MTcyODgzXzMyOTQ4ODQ3Njc0NjI1Mjg%3D&__cft__[0]=AZUTfR4h1hA_qrU7SM52LHBNntKW2H6n_41HNQjz9z6XWyaERImSyCBJql9rpL06-EzzSdD8NzCQkNke0dF1RuP3G6soMjczoTbnn5-C3DcRKFPHYbVmvPtXmdNXKy1q6hP-LODh0eH4hAHn99w3YQxV&__tn__=R]-R\n",
      "ww.youtube.com/watch?v=iz0E8ZBXBCk\n",
      "CB Khánh: https://www.facebook.com/profile.php?id=100010617312301&comment_id=Y29tbWVudDozMjk0NDQ3ODg0MTcyODgzXzMyOTQ0NTAzMjQxNzI2Mzk%3D&__cft__[0]=AZUTfR4h1hA_qrU7SM52LHBNntKW2H6n_41HNQjz9z6XWyaERImSyCBJql9rpL06-EzzSdD8NzCQkNke0dF1RuP3G6soMjczoTbnn5-C3DcRKFPHYbVmvPtXmdNXKy1q6hP-LODh0eH4hAHn99w3YQxV&__tn__=R]-R\n",
      "Cũng là linh nhưng linh chú khác quá\n",
      "Trần Thái Thuỵ: https://www.facebook.com/thaithuy.tran.549?comment_id=Y29tbWVudDozMjk0NDQ3ODg0MTcyODgzXzMyOTQ4Mzk0MTQxMzM3MzA%3D&__cft__[0]=AZUTfR4h1hA_qrU7SM52LHBNntKW2H6n_41HNQjz9z6XWyaERImSyCBJql9rpL06-EzzSdD8NzCQkNke0dF1RuP3G6soMjczoTbnn5-C3DcRKFPHYbVmvPtXmdNXKy1q6hP-LODh0eH4hAHn99w3YQxV&__tn__=R]-R\n",
      "Trần Thị Thái Thư cặp mắt giống ba mình\n",
      "Cường Nguyễn: https://www.facebook.com/ktscuongnguyenmanh?comment_id=Y29tbWVudDozMjk0NDQ3ODg0MTcyODgzXzMyOTQ4MDQxMTQxMzcyNjA%3D&__cft__[0]=AZUTfR4h1hA_qrU7SM52LHBNntKW2H6n_41HNQjz9z6XWyaERImSyCBJql9rpL06-EzzSdD8NzCQkNke0dF1RuP3G6soMjczoTbnn5-C3DcRKFPHYbVmvPtXmdNXKy1q6hP-LODh0eH4hAHn99w3YQxV&__tn__=R]-R\n",
      "g Nguyễn\n",
      "Mặc dù chưa sao kê nhưng tôi vẫn tin tưởng tuyệt đối các nghệ sĩ. Họ bỏ thời gian, tiền bạc, sức khỏe làm việc tốt, làm từ thiện. Thử hỏi tất cả người đã làm được gì cho xã hội, đã làm được như họ không. Có kêu gọi được như anh Thành không, có tấm lòng… Xem thêm\n",
      "Bảo Minh: https://www.facebook.com/profile.php?id=100041739049227&comment_id=Y29tbWVudDozMjk0NDQ3ODg0MTcyODgzXzMyOTQ0NTI5NzA4MzkwNDE%3D&__cft__[0]=AZUTfR4h1hA_qrU7SM52LHBNntKW2H6n_41HNQjz9z6XWyaERImSyCBJql9rpL06-EzzSdD8NzCQkNke0dF1RuP3G6soMjczoTbnn5-C3DcRKFPHYbVmvPtXmdNXKy1q6hP-LODh0eH4hAHn99w3YQxV&__tn__=R]-R\n",
      "Ông này vừa lươn lẹo vừa k trung thực. Làm chương trình toàn ăn gian thêm giờ cho người chơi, tiền của m bỏ ra toàn nói dối tiền của người khác tài trợ. Nói chung cũng chỉ làm màu.\n",
      "Nguyễn Hoàng Hiệp: https://www.facebook.com/profile.php?id=100010751558558&comment_id=Y29tbWVudDozMjk0NDQ3ODg0MTcyODgzXzMyOTUxMDM3Njc0NDA2Mjg%3D&__cft__[0]=AZUTfR4h1hA_qrU7SM52LHBNntKW2H6n_41HNQjz9z6XWyaERImSyCBJql9rpL06-EzzSdD8NzCQkNke0dF1RuP3G6soMjczoTbnn5-C3DcRKFPHYbVmvPtXmdNXKy1q6hP-LODh0eH4hAHn99w3YQxV&__tn__=R]-R\n",
      "àng Hiệp\n",
      "Anh nghệ sĩ nào hôm qua còn bảo đợt lũ lụt năm nay người dân sẽ không nhận được cứu trợ kịp lúc vì các nghệ sĩ như lũ hậu không dám đi từ thiện vào đây cmt xem nào! Thở ra câu nghe chối tỉ thật chứ. Alo alo\n",
      "Thu Hường: https://www.facebook.com/thuhuong110989?comment_id=Y29tbWVudDozMjk0NDQ3ODg0MTcyODgzXzMyOTUwNjU0MzQxMTExMjg%3D&__cft__[0]=AZUTfR4h1hA_qrU7SM52LHBNntKW2H6n_41HNQjz9z6XWyaERImSyCBJql9rpL06-EzzSdD8NzCQkNke0dF1RuP3G6soMjczoTbnn5-C3DcRKFPHYbVmvPtXmdNXKy1q6hP-LODh0eH4hAHn99w3YQxV&__tn__=R]-R\n",
      "Giờ thì cm ca tụng vậy nhưng mai kia chỉ 1 câu bơm kích là cm lại dựng ngược lên đòi sao kê đấy\n",
      "Nên để cho chú ấy yên đi ng ta từ thiện k có nhu cầu lên báo âukê\n",
      "Ng Tuan Long: https://www.facebook.com/tuanlong.nguyen.7524?comment_id=Y29tbWVudDozMjk0NDQ3ODg0MTcyODgzXzMyOTQ4ODEwOTQxMjk1NjI%3D&__cft__[0]=AZUTfR4h1hA_qrU7SM52LHBNntKW2H6n_41HNQjz9z6XWyaERImSyCBJql9rpL06-EzzSdD8NzCQkNke0dF1RuP3G6soMjczoTbnn5-C3DcRKFPHYbVmvPtXmdNXKy1q6hP-LODh0eH4hAHn99w3YQxV&__tn__=R]-R\n",
      "Người đàn ông gian lận thời gian với bà con lại là người đàn ông tôi luôn ngưỡng mộ, chúc chú thật nhiều sức khoẻ để làm đẹp cho đời\n",
      "Quân Gon: https://www.facebook.com/gon.vn?comment_id=Y29tbWVudDozMjk0NDQ3ODg0MTcyODgzXzMyOTQ5ODk3ODQxMTg2OTM%3D&__cft__[0]=AZUTfR4h1hA_qrU7SM52LHBNntKW2H6n_41HNQjz9z6XWyaERImSyCBJql9rpL06-EzzSdD8NzCQkNke0dF1RuP3G6soMjczoTbnn5-C3DcRKFPHYbVmvPtXmdNXKy1q6hP-LODh0eH4hAHn99w3YQxV&__tn__=R]-R\n",
      "Thích chú từ lục lạc vàng\n",
      "Vũ Hồng: https://www.facebook.com/profile.php?id=100006866852096&comment_id=Y29tbWVudDozMjk0NDQ3ODg0MTcyODgzXzMyOTQ4OTU5Mjc0NjE0MTI%3D&__cft__[0]=AZUTfR4h1hA_qrU7SM52LHBNntKW2H6n_41HNQjz9z6XWyaERImSyCBJql9rpL06-EzzSdD8NzCQkNke0dF1RuP3G6soMjczoTbnn5-C3DcRKFPHYbVmvPtXmdNXKy1q6hP-LODh0eH4hAHn99w3YQxV&__tn__=R]-R\n",
      "Trân trọng tấm lòng - tấm chân tình từ trong TÂM của chú!\n",
      "Chúc chú và gia đình luôn mạnh khoẻ và bình an.\n",
      "Trang VyKy: https://www.facebook.com/trang.vyky?comment_id=Y29tbWVudDozMjk0NDQ3ODg0MTcyODgzXzMyOTQ4MDQ4NTc0NzA1MTk%3D&__cft__[0]=AZUTfR4h1hA_qrU7SM52LHBNntKW2H6n_41HNQjz9z6XWyaERImSyCBJql9rpL06-EzzSdD8NzCQkNke0dF1RuP3G6soMjczoTbnn5-C3DcRKFPHYbVmvPtXmdNXKy1q6hP-LODh0eH4hAHn99w3YQxV&__tn__=R]-R\n",
      "Số ít nghệ sĩ mà mình thấy là người có tâm thật sự\n",
      "Hoàng Giang: https://www.facebook.com/profile.php?id=100043239154507&comment_id=Y29tbWVudDozMjk0NDQ3ODg0MTcyODgzXzMyOTQ5MDk5OTQxMjY2NzI%3D&__cft__[0]=AZUTfR4h1hA_qrU7SM52LHBNntKW2H6n_41HNQjz9z6XWyaERImSyCBJql9rpL06-EzzSdD8NzCQkNke0dF1RuP3G6soMjczoTbnn5-C3DcRKFPHYbVmvPtXmdNXKy1q6hP-LODh0eH4hAHn99w3YQxV&__tn__=R]-R\n",
      "Ông nội này 1phút (65-70) giây nè. Bảo ổng sao kê thời gian lại đi\n",
      "Nguyễn Văn Hiếu: https://www.facebook.com/hieutoc1990?comment_id=Y29tbWVudDozMjk0NDQ3ODg0MTcyODgzXzMyOTUxMDM1ODA3NzM5ODA%3D&__cft__[0]=AZUTfR4h1hA_qrU7SM52LHBNntKW2H6n_41HNQjz9z6XWyaERImSyCBJql9rpL06-EzzSdD8NzCQkNke0dF1RuP3G6soMjczoTbnn5-C3DcRKFPHYbVmvPtXmdNXKy1q6hP-LODh0eH4hAHn99w3YQxV&__tn__=R]-R\n",
      "Đubgs rồi phải vào hẻm chứ ảnh video vtv thì toàn ngõ nhà giầu .\n",
      "Ngọc Ánh: https://www.facebook.com/tieu.zinzin.3?comment_id=Y29tbWVudDozMjk0NDQ3ODg0MTcyODgzXzMyOTQ4MDQzNDc0NzA1NzA%3D&__cft__[0]=AZUTfR4h1hA_qrU7SM52LHBNntKW2H6n_41HNQjz9z6XWyaERImSyCBJql9rpL06-EzzSdD8NzCQkNke0dF1RuP3G6soMjczoTbnn5-C3DcRKFPHYbVmvPtXmdNXKy1q6hP-LODh0eH4hAHn99w3YQxV&__tn__=R]-R\n",
      "Ta nói cha mẹ để đức cho con\n",
      "c con chú là biết phúc đức cỡ nào rồi\n",
      "Nguyễn Lê Hoàng: https://www.facebook.com/HoangNL2?comment_id=Y29tbWVudDozMjk0NDQ3ODg0MTcyODgzXzMyOTUxMDIxMzQxMDc0NTg%3D&__cft__[0]=AZUTfR4h1hA_qrU7SM52LHBNntKW2H6n_41HNQjz9z6XWyaERImSyCBJql9rpL06-EzzSdD8NzCQkNke0dF1RuP3G6soMjczoTbnn5-C3DcRKFPHYbVmvPtXmdNXKy1q6hP-LODh0eH4hAHn99w3YQxV&__tn__=R]-R\n",
      "Đây mới là người từ thiện đích thực!\n",
      "Song Vũ: https://www.facebook.com/profile.php?id=100004768180798&comment_id=Y29tbWVudDozMjk0NDQ3ODg0MTcyODgzXzMyOTQ4NzQyMTQxMzAyNTA%3D&__cft__[0]=AZUTfR4h1hA_qrU7SM52LHBNntKW2H6n_41HNQjz9z6XWyaERImSyCBJql9rpL06-EzzSdD8NzCQkNke0dF1RuP3G6soMjczoTbnn5-C3DcRKFPHYbVmvPtXmdNXKy1q6hP-LODh0eH4hAHn99w3YQxV&__tn__=R]-R\n",
      "Anh đúng là để đức cho các con\n",
      "Trung ITờ: https://www.facebook.com/profile.php?id=100017930891853&comment_id=Y29tbWVudDozMjk0NDQ3ODg0MTcyODgzXzMyOTQ5MDUyNjA3OTM4MTI%3D&__cft__[0]=AZUTfR4h1hA_qrU7SM52LHBNntKW2H6n_41HNQjz9z6XWyaERImSyCBJql9rpL06-EzzSdD8NzCQkNke0dF1RuP3G6soMjczoTbnn5-C3DcRKFPHYbVmvPtXmdNXKy1q6hP-LODh0eH4hAHn99w3YQxV&__tn__=R]-R\n",
      "Ko chấp người đàn ông 1p>60s. Ngta 1p còn có 50s hay 30s. Riêng chú 1 phong cách. Chúc chú và gd sức khoẻ và bình an. Trân trọng.\n",
      "Joseph Thanh Hải: https://www.facebook.com/vicchu1205?comment_id=Y29tbWVudDozMjk0NDQ3ODg0MTcyODgzXzMyOTQ4MTE5MDc0Njk4MTQ%3D&__cft__[0]=AZUTfR4h1hA_qrU7SM52LHBNntKW2H6n_41HNQjz9z6XWyaERImSyCBJql9rpL06-EzzSdD8NzCQkNke0dF1RuP3G6soMjczoTbnn5-C3DcRKFPHYbVmvPtXmdNXKy1q6hP-LODh0eH4hAHn99w3YQxV&__tn__=R]-R\n",
      "A làm rất tốt nhưng a tiêm mấy mũi vác xin rồi thế, nếu chưa tiêm thì là hỏng đấy a giai ạ,\n",
      "Vũ Cao Đại: https://www.facebook.com/bin.dep.chai.official?comment_id=Y29tbWVudDozMjk0NDQ3ODg0MTcyODgzXzMyOTUwNjExMjA3NzgyMjY%3D&__cft__[0]=AZUTfR4h1hA_qrU7SM52LHBNntKW2H6n_41HNQjz9z6XWyaERImSyCBJql9rpL06-EzzSdD8NzCQkNke0dF1RuP3G6soMjczoTbnn5-C3DcRKFPHYbVmvPtXmdNXKy1q6hP-LODh0eH4hAHn99w3YQxV&__tn__=R]-R\n",
      "Quá tuyệt với\n",
      "Phạm Đắc: https://www.facebook.com/dac.pham.1804?comment_id=Y29tbWVudDozMjk0NDQ3ODg0MTcyODgzXzMyOTQ5MDQxMTA3OTM5Mjc%3D&__cft__[0]=AZUTfR4h1hA_qrU7SM52LHBNntKW2H6n_41HNQjz9z6XWyaERImSyCBJql9rpL06-EzzSdD8NzCQkNke0dF1RuP3G6soMjczoTbnn5-C3DcRKFPHYbVmvPtXmdNXKy1q6hP-LODh0eH4hAHn99w3YQxV&__tn__=R]-R\n",
      "Bồ tát sống!\n"
     ]
    },
    {
     "output_type": "error",
     "ename": "NoSuchElementException",
     "evalue": "Message: no such element: Unable to locate element: {\"method\":\"css selector\",\"selector\":\"div\"}\n  (Session info: chrome=93.0.4577.63)\n",
     "traceback": [
      "\u001b[1;31m---------------------------------------------------------------------------\u001b[0m",
      "\u001b[1;31mNoSuchElementException\u001b[0m                    Traceback (most recent call last)",
      "\u001b[1;32m<ipython-input-5-bc21cad1769d>\u001b[0m in \u001b[0;36m<module>\u001b[1;34m\u001b[0m\n\u001b[0;32m      3\u001b[0m     \u001b[0mposter\u001b[0m \u001b[1;33m=\u001b[0m \u001b[0mcomment\u001b[0m\u001b[1;33m.\u001b[0m\u001b[0mfind_element_by_class_name\u001b[0m\u001b[1;33m(\u001b[0m\u001b[1;34m\"pq6dq46d\"\u001b[0m\u001b[1;33m)\u001b[0m\u001b[1;33m.\u001b[0m\u001b[0mtext\u001b[0m\u001b[1;33m\u001b[0m\u001b[0m\n\u001b[0;32m      4\u001b[0m     \u001b[0mlink\u001b[0m \u001b[1;33m=\u001b[0m \u001b[0mcomment\u001b[0m\u001b[1;33m.\u001b[0m\u001b[0mfind_element_by_tag_name\u001b[0m\u001b[1;33m(\u001b[0m\u001b[1;34m'a'\u001b[0m\u001b[1;33m)\u001b[0m\u001b[1;33m.\u001b[0m\u001b[0mget_attribute\u001b[0m\u001b[1;33m(\u001b[0m\u001b[1;34m'href'\u001b[0m\u001b[1;33m)\u001b[0m\u001b[1;33m\u001b[0m\u001b[0m\n\u001b[1;32m----> 5\u001b[1;33m     \u001b[0mcmt\u001b[0m \u001b[1;33m=\u001b[0m \u001b[0mcomment\u001b[0m\u001b[1;33m.\u001b[0m\u001b[0mfind_element_by_tag_name\u001b[0m\u001b[1;33m(\u001b[0m\u001b[1;34m'div'\u001b[0m\u001b[1;33m)\u001b[0m\u001b[1;33m.\u001b[0m\u001b[0mfind_element_by_tag_name\u001b[0m\u001b[1;33m(\u001b[0m\u001b[1;34m'div'\u001b[0m\u001b[1;33m)\u001b[0m\u001b[1;33m.\u001b[0m\u001b[0mfind_element_by_tag_name\u001b[0m\u001b[1;33m(\u001b[0m\u001b[1;34m'div'\u001b[0m\u001b[1;33m)\u001b[0m\u001b[1;33m.\u001b[0m\u001b[0mfind_element_by_tag_name\u001b[0m\u001b[1;33m(\u001b[0m\u001b[1;34m'div'\u001b[0m\u001b[1;33m)\u001b[0m\u001b[1;33m.\u001b[0m\u001b[0mtext\u001b[0m\u001b[1;33m[\u001b[0m\u001b[0mlen\u001b[0m\u001b[1;33m(\u001b[0m\u001b[0mposter\u001b[0m\u001b[1;33m)\u001b[0m\u001b[1;33m+\u001b[0m\u001b[1;36m1\u001b[0m\u001b[1;33m:\u001b[0m\u001b[1;33m]\u001b[0m\u001b[1;33m\u001b[0m\u001b[0m\n\u001b[0m\u001b[0;32m      6\u001b[0m     \u001b[0mprint\u001b[0m\u001b[1;33m(\u001b[0m\u001b[0mposter\u001b[0m\u001b[1;33m+\u001b[0m\u001b[1;34m\": \"\u001b[0m\u001b[1;33m+\u001b[0m\u001b[0mlink\u001b[0m\u001b[1;33m)\u001b[0m\u001b[1;33m\u001b[0m\u001b[0m\n\u001b[0;32m      7\u001b[0m     \u001b[0mprint\u001b[0m\u001b[1;33m(\u001b[0m\u001b[0mcmt\u001b[0m\u001b[1;33m)\u001b[0m\u001b[1;33m\u001b[0m\u001b[0m\n",
      "\u001b[1;32mc:\\Users\\Windows 10\\Desktop\\fb_comment_crawling\\venv\\lib\\site-packages\\selenium\\webdriver\\remote\\webelement.py\u001b[0m in \u001b[0;36mfind_element_by_tag_name\u001b[1;34m(self, name)\u001b[0m\n\u001b[0;32m    303\u001b[0m             \u001b[0melement\u001b[0m \u001b[1;33m=\u001b[0m \u001b[0melement\u001b[0m\u001b[1;33m.\u001b[0m\u001b[0mfind_element_by_tag_name\u001b[0m\u001b[1;33m(\u001b[0m\u001b[1;34m'h1'\u001b[0m\u001b[1;33m)\u001b[0m\u001b[1;33m\u001b[0m\u001b[0m\n\u001b[0;32m    304\u001b[0m         \"\"\"\n\u001b[1;32m--> 305\u001b[1;33m         \u001b[1;32mreturn\u001b[0m \u001b[0mself\u001b[0m\u001b[1;33m.\u001b[0m\u001b[0mfind_element\u001b[0m\u001b[1;33m(\u001b[0m\u001b[0mby\u001b[0m\u001b[1;33m=\u001b[0m\u001b[0mBy\u001b[0m\u001b[1;33m.\u001b[0m\u001b[0mTAG_NAME\u001b[0m\u001b[1;33m,\u001b[0m \u001b[0mvalue\u001b[0m\u001b[1;33m=\u001b[0m\u001b[0mname\u001b[0m\u001b[1;33m)\u001b[0m\u001b[1;33m\u001b[0m\u001b[0m\n\u001b[0m\u001b[0;32m    306\u001b[0m \u001b[1;33m\u001b[0m\u001b[0m\n\u001b[0;32m    307\u001b[0m     \u001b[1;32mdef\u001b[0m \u001b[0mfind_elements_by_tag_name\u001b[0m\u001b[1;33m(\u001b[0m\u001b[0mself\u001b[0m\u001b[1;33m,\u001b[0m \u001b[0mname\u001b[0m\u001b[1;33m)\u001b[0m\u001b[1;33m:\u001b[0m\u001b[1;33m\u001b[0m\u001b[0m\n",
      "\u001b[1;32mc:\\Users\\Windows 10\\Desktop\\fb_comment_crawling\\venv\\lib\\site-packages\\selenium\\webdriver\\remote\\webelement.py\u001b[0m in \u001b[0;36mfind_element\u001b[1;34m(self, by, value)\u001b[0m\n\u001b[0;32m    657\u001b[0m \u001b[1;33m\u001b[0m\u001b[0m\n\u001b[0;32m    658\u001b[0m         return self._execute(Command.FIND_CHILD_ELEMENT,\n\u001b[1;32m--> 659\u001b[1;33m                              {\"using\": by, \"value\": value})['value']\n\u001b[0m\u001b[0;32m    660\u001b[0m \u001b[1;33m\u001b[0m\u001b[0m\n\u001b[0;32m    661\u001b[0m     \u001b[1;32mdef\u001b[0m \u001b[0mfind_elements\u001b[0m\u001b[1;33m(\u001b[0m\u001b[0mself\u001b[0m\u001b[1;33m,\u001b[0m \u001b[0mby\u001b[0m\u001b[1;33m=\u001b[0m\u001b[0mBy\u001b[0m\u001b[1;33m.\u001b[0m\u001b[0mID\u001b[0m\u001b[1;33m,\u001b[0m \u001b[0mvalue\u001b[0m\u001b[1;33m=\u001b[0m\u001b[1;32mNone\u001b[0m\u001b[1;33m)\u001b[0m\u001b[1;33m:\u001b[0m\u001b[1;33m\u001b[0m\u001b[0m\n",
      "\u001b[1;32mc:\\Users\\Windows 10\\Desktop\\fb_comment_crawling\\venv\\lib\\site-packages\\selenium\\webdriver\\remote\\webelement.py\u001b[0m in \u001b[0;36m_execute\u001b[1;34m(self, command, params)\u001b[0m\n\u001b[0;32m    631\u001b[0m             \u001b[0mparams\u001b[0m \u001b[1;33m=\u001b[0m \u001b[1;33m{\u001b[0m\u001b[1;33m}\u001b[0m\u001b[1;33m\u001b[0m\u001b[0m\n\u001b[0;32m    632\u001b[0m         \u001b[0mparams\u001b[0m\u001b[1;33m[\u001b[0m\u001b[1;34m'id'\u001b[0m\u001b[1;33m]\u001b[0m \u001b[1;33m=\u001b[0m \u001b[0mself\u001b[0m\u001b[1;33m.\u001b[0m\u001b[0m_id\u001b[0m\u001b[1;33m\u001b[0m\u001b[0m\n\u001b[1;32m--> 633\u001b[1;33m         \u001b[1;32mreturn\u001b[0m \u001b[0mself\u001b[0m\u001b[1;33m.\u001b[0m\u001b[0m_parent\u001b[0m\u001b[1;33m.\u001b[0m\u001b[0mexecute\u001b[0m\u001b[1;33m(\u001b[0m\u001b[0mcommand\u001b[0m\u001b[1;33m,\u001b[0m \u001b[0mparams\u001b[0m\u001b[1;33m)\u001b[0m\u001b[1;33m\u001b[0m\u001b[0m\n\u001b[0m\u001b[0;32m    634\u001b[0m \u001b[1;33m\u001b[0m\u001b[0m\n\u001b[0;32m    635\u001b[0m     \u001b[1;32mdef\u001b[0m \u001b[0mfind_element\u001b[0m\u001b[1;33m(\u001b[0m\u001b[0mself\u001b[0m\u001b[1;33m,\u001b[0m \u001b[0mby\u001b[0m\u001b[1;33m=\u001b[0m\u001b[0mBy\u001b[0m\u001b[1;33m.\u001b[0m\u001b[0mID\u001b[0m\u001b[1;33m,\u001b[0m \u001b[0mvalue\u001b[0m\u001b[1;33m=\u001b[0m\u001b[1;32mNone\u001b[0m\u001b[1;33m)\u001b[0m\u001b[1;33m:\u001b[0m\u001b[1;33m\u001b[0m\u001b[0m\n",
      "\u001b[1;32mc:\\Users\\Windows 10\\Desktop\\fb_comment_crawling\\venv\\lib\\site-packages\\selenium\\webdriver\\remote\\webdriver.py\u001b[0m in \u001b[0;36mexecute\u001b[1;34m(self, driver_command, params)\u001b[0m\n\u001b[0;32m    319\u001b[0m         \u001b[0mresponse\u001b[0m \u001b[1;33m=\u001b[0m \u001b[0mself\u001b[0m\u001b[1;33m.\u001b[0m\u001b[0mcommand_executor\u001b[0m\u001b[1;33m.\u001b[0m\u001b[0mexecute\u001b[0m\u001b[1;33m(\u001b[0m\u001b[0mdriver_command\u001b[0m\u001b[1;33m,\u001b[0m \u001b[0mparams\u001b[0m\u001b[1;33m)\u001b[0m\u001b[1;33m\u001b[0m\u001b[0m\n\u001b[0;32m    320\u001b[0m         \u001b[1;32mif\u001b[0m \u001b[0mresponse\u001b[0m\u001b[1;33m:\u001b[0m\u001b[1;33m\u001b[0m\u001b[0m\n\u001b[1;32m--> 321\u001b[1;33m             \u001b[0mself\u001b[0m\u001b[1;33m.\u001b[0m\u001b[0merror_handler\u001b[0m\u001b[1;33m.\u001b[0m\u001b[0mcheck_response\u001b[0m\u001b[1;33m(\u001b[0m\u001b[0mresponse\u001b[0m\u001b[1;33m)\u001b[0m\u001b[1;33m\u001b[0m\u001b[0m\n\u001b[0m\u001b[0;32m    322\u001b[0m             response['value'] = self._unwrap_value(\n\u001b[0;32m    323\u001b[0m                 response.get('value', None))\n",
      "\u001b[1;32mc:\\Users\\Windows 10\\Desktop\\fb_comment_crawling\\venv\\lib\\site-packages\\selenium\\webdriver\\remote\\errorhandler.py\u001b[0m in \u001b[0;36mcheck_response\u001b[1;34m(self, response)\u001b[0m\n\u001b[0;32m    240\u001b[0m                 \u001b[0malert_text\u001b[0m \u001b[1;33m=\u001b[0m \u001b[0mvalue\u001b[0m\u001b[1;33m[\u001b[0m\u001b[1;34m'alert'\u001b[0m\u001b[1;33m]\u001b[0m\u001b[1;33m.\u001b[0m\u001b[0mget\u001b[0m\u001b[1;33m(\u001b[0m\u001b[1;34m'text'\u001b[0m\u001b[1;33m)\u001b[0m\u001b[1;33m\u001b[0m\u001b[0m\n\u001b[0;32m    241\u001b[0m             \u001b[1;32mraise\u001b[0m \u001b[0mexception_class\u001b[0m\u001b[1;33m(\u001b[0m\u001b[0mmessage\u001b[0m\u001b[1;33m,\u001b[0m \u001b[0mscreen\u001b[0m\u001b[1;33m,\u001b[0m \u001b[0mstacktrace\u001b[0m\u001b[1;33m,\u001b[0m \u001b[0malert_text\u001b[0m\u001b[1;33m)\u001b[0m\u001b[1;33m\u001b[0m\u001b[0m\n\u001b[1;32m--> 242\u001b[1;33m         \u001b[1;32mraise\u001b[0m \u001b[0mexception_class\u001b[0m\u001b[1;33m(\u001b[0m\u001b[0mmessage\u001b[0m\u001b[1;33m,\u001b[0m \u001b[0mscreen\u001b[0m\u001b[1;33m,\u001b[0m \u001b[0mstacktrace\u001b[0m\u001b[1;33m)\u001b[0m\u001b[1;33m\u001b[0m\u001b[0m\n\u001b[0m\u001b[0;32m    243\u001b[0m \u001b[1;33m\u001b[0m\u001b[0m\n\u001b[0;32m    244\u001b[0m     \u001b[1;32mdef\u001b[0m \u001b[0m_value_or_default\u001b[0m\u001b[1;33m(\u001b[0m\u001b[0mself\u001b[0m\u001b[1;33m,\u001b[0m \u001b[0mobj\u001b[0m\u001b[1;33m,\u001b[0m \u001b[0mkey\u001b[0m\u001b[1;33m,\u001b[0m \u001b[0mdefault\u001b[0m\u001b[1;33m)\u001b[0m\u001b[1;33m:\u001b[0m\u001b[1;33m\u001b[0m\u001b[0m\n",
      "\u001b[1;31mNoSuchElementException\u001b[0m: Message: no such element: Unable to locate element: {\"method\":\"css selector\",\"selector\":\"div\"}\n  (Session info: chrome=93.0.4577.63)\n"
     ]
    }
   ],
   "metadata": {
    "scrolled": true
   }
  },
  {
   "cell_type": "code",
   "execution_count": null,
   "source": [
    "driver.close()"
   ],
   "outputs": [],
   "metadata": {}
  }
 ],
 "metadata": {
  "interpreter": {
   "hash": "cffe57dcf01096b398003fa17d20b9dceda743a3cf84327530ef44cdec719fdd"
  },
  "kernelspec": {
   "name": "python3",
   "display_name": "Python 3.6.5 64-bit ('venv': venv)"
  },
  "language_info": {
   "codemirror_mode": {
    "name": "ipython",
    "version": 3
   },
   "file_extension": ".py",
   "mimetype": "text/x-python",
   "name": "python",
   "nbconvert_exporter": "python",
   "pygments_lexer": "ipython3",
   "version": "3.6.5"
  }
 },
 "nbformat": 4,
 "nbformat_minor": 2
}